{
 "cells": [
  {
   "cell_type": "code",
   "execution_count": null,
   "id": "a7a0d752",
   "metadata": {},
   "outputs": [],
   "source": [
    "import os\n",
    "from torch.utils.data import DataLoader\n",
    "from torchvision.datasets import ImageFolder\n",
    "import torchvision.transforms as tt\n",
    "import torch\n",
    "import torch.nn as nn\n",
    "import torch.nn.functional as F\n",
    "import cv2\n",
    "from tqdm.notebook import tqdm\n",
    "from torchvision.utils import save_image\n",
    "from torchvision.utils import make_grid\n",
    "import albumentations as A\n",
    "import numpy as np\n",
    "import matplotlib.pyplot as plt\n",
    "from PIL import Image\n",
    "import pandas as pd\n",
    "from sklearn.model_selection import train_test_split"
   ]
  },
  {
   "cell_type": "code",
   "execution_count": null,
   "id": "c7efe74e",
   "metadata": {},
   "outputs": [],
   "source": [
    "DEVICE = torch.device('cuda')"
   ]
  },
  {
   "cell_type": "code",
   "execution_count": null,
   "id": "88001cff-d39c-46ed-88db-c027476e6db0",
   "metadata": {},
   "outputs": [],
   "source": [
    "os.chdir('/home/kamenev_v/Deepfake_proj/DeepFakeDetection/')"
   ]
  },
  {
   "cell_type": "code",
   "execution_count": null,
   "id": "8edf543e",
   "metadata": {},
   "outputs": [],
   "source": [
    "from lib.data.dataset import *\n",
    "from lib.models.PFD import *\n",
    "from lib.utils import *\n",
    "from lib.training.train_model import *\n",
    "from lib.models.FTFD import *\n",
    "from lib.models.BaseDetector import *\n",
    "from lib.training.trainerold import train_old"
   ]
  },
  {
   "cell_type": "code",
   "execution_count": null,
   "id": "aed4f9d0",
   "metadata": {},
   "outputs": [],
   "source": [
    "batch_size = 20\n",
    "image_size = 224"
   ]
  },
  {
   "cell_type": "code",
   "execution_count": null,
   "id": "4267887c-3be4-4657-917c-9242ff59a2c8",
   "metadata": {},
   "outputs": [],
   "source": [
    "TRAIN = pd.read_csv('lib/data/FINAL_TRAIN_P2.csv')\n",
    "TEST = pd.read_csv('lib/data/FINAL_TEST_P2.csv')\n",
    "# TRAIN['path']=TRAIN['path'].apply(lambda x: 'lib/data/MixedData/'+x)\n",
    "# TEST['path']=TEST['path'].apply(lambda x: 'lib/data/MixedData/'+x)\n",
    "TRAIN['class'] = TRAIN['class'].apply(lambda x: torch.tensor(x,dtype=torch.float32))\n",
    "TEST['class'] = TEST['class'].apply(lambda x: torch.tensor(x,dtype=torch.float32))"
   ]
  },
  {
   "cell_type": "markdown",
   "id": "124782dd-c683-4a1b-8803-4ae1f1ffed69",
   "metadata": {},
   "source": [
    "## Data Loading&Preparation"
   ]
  },
  {
   "cell_type": "code",
   "execution_count": null,
   "id": "ee612a42-d9a0-41fa-bb8b-5cc6f7b70691",
   "metadata": {},
   "outputs": [],
   "source": [
    "def patch_apply(x):\n",
    "    return torch.tensor([[x,x],[x,x]],dtype=torch.float32)"
   ]
  },
  {
   "cell_type": "code",
   "execution_count": null,
   "id": "7bea17ea-0340-47c2-9411-6ab7b1534af0",
   "metadata": {},
   "outputs": [],
   "source": []
  },
  {
   "cell_type": "code",
   "execution_count": null,
   "id": "afb6fa5b-36c4-4eec-a789-2f194713f809",
   "metadata": {},
   "outputs": [
    {
     "data": {
      "text/html": [
       "<div>\n",
       "<style scoped>\n",
       "    .dataframe tbody tr th:only-of-type {\n",
       "        vertical-align: middle;\n",
       "    }\n",
       "\n",
       "    .dataframe tbody tr th {\n",
       "        vertical-align: top;\n",
       "    }\n",
       "\n",
       "    .dataframe thead th {\n",
       "        text-align: right;\n",
       "    }\n",
       "</style>\n",
       "<table border=\"1\" class=\"dataframe\">\n",
       "  <thead>\n",
       "    <tr style=\"text-align: right;\">\n",
       "      <th></th>\n",
       "      <th>path</th>\n",
       "      <th>class</th>\n",
       "    </tr>\n",
       "  </thead>\n",
       "  <tbody>\n",
       "    <tr>\n",
       "      <th>0</th>\n",
       "      <td>lib/data/MixedData/True/simswappic_107223.jpg</td>\n",
       "      <td>tensor(0.)</td>\n",
       "    </tr>\n",
       "    <tr>\n",
       "      <th>1</th>\n",
       "      <td>lib/data/MixedData/True/01687.png</td>\n",
       "      <td>tensor(0.)</td>\n",
       "    </tr>\n",
       "    <tr>\n",
       "      <th>2</th>\n",
       "      <td>lib/data/MixedData/Fake/newpic_977.jpgresult.jpg</td>\n",
       "      <td>tensor(1.)</td>\n",
       "    </tr>\n",
       "    <tr>\n",
       "      <th>3</th>\n",
       "      <td>lib/data/MixedData/Fake/3981.jpg</td>\n",
       "      <td>tensor(1.)</td>\n",
       "    </tr>\n",
       "    <tr>\n",
       "      <th>4</th>\n",
       "      <td>lib/data/MixedData/Fake/266.jpg</td>\n",
       "      <td>tensor(1.)</td>\n",
       "    </tr>\n",
       "    <tr>\n",
       "      <th>...</th>\n",
       "      <td>...</td>\n",
       "      <td>...</td>\n",
       "    </tr>\n",
       "    <tr>\n",
       "      <th>12271</th>\n",
       "      <td>lib/data/CUSTOMV2/Fake/id01637_1935__video1_au...</td>\n",
       "      <td>tensor(1.)</td>\n",
       "    </tr>\n",
       "    <tr>\n",
       "      <th>12272</th>\n",
       "      <td>lib/data/MixedData/Fake/swappicm_558.jpgresult...</td>\n",
       "      <td>tensor(1.)</td>\n",
       "    </tr>\n",
       "    <tr>\n",
       "      <th>12273</th>\n",
       "      <td>lib/data/MixedData/Fake/newpicm_735.jpgresult.jpg</td>\n",
       "      <td>tensor(1.)</td>\n",
       "    </tr>\n",
       "    <tr>\n",
       "      <th>12274</th>\n",
       "      <td>lib/data/MixedData/Fake/newpicm_598.jpgresult.jpg</td>\n",
       "      <td>tensor(1.)</td>\n",
       "    </tr>\n",
       "    <tr>\n",
       "      <th>12275</th>\n",
       "      <td>lib/data/MixedData/True/380.jpg</td>\n",
       "      <td>tensor(0.)</td>\n",
       "    </tr>\n",
       "  </tbody>\n",
       "</table>\n",
       "<p>12276 rows × 2 columns</p>\n",
       "</div>"
      ],
      "text/plain": [
       "                                                    path       class\n",
       "0          lib/data/MixedData/True/simswappic_107223.jpg  tensor(0.)\n",
       "1                      lib/data/MixedData/True/01687.png  tensor(0.)\n",
       "2       lib/data/MixedData/Fake/newpic_977.jpgresult.jpg  tensor(1.)\n",
       "3                       lib/data/MixedData/Fake/3981.jpg  tensor(1.)\n",
       "4                        lib/data/MixedData/Fake/266.jpg  tensor(1.)\n",
       "...                                                  ...         ...\n",
       "12271  lib/data/CUSTOMV2/Fake/id01637_1935__video1_au...  tensor(1.)\n",
       "12272  lib/data/MixedData/Fake/swappicm_558.jpgresult...  tensor(1.)\n",
       "12273  lib/data/MixedData/Fake/newpicm_735.jpgresult.jpg  tensor(1.)\n",
       "12274  lib/data/MixedData/Fake/newpicm_598.jpgresult.jpg  tensor(1.)\n",
       "12275                    lib/data/MixedData/True/380.jpg  tensor(0.)\n",
       "\n",
       "[12276 rows x 2 columns]"
      ]
     },
     "execution_count": 8,
     "metadata": {},
     "output_type": "execute_result"
    }
   ],
   "source": [
    "TRAIN"
   ]
  },
  {
   "cell_type": "code",
   "execution_count": null,
   "id": "80035c20",
   "metadata": {},
   "outputs": [],
   "source": [
    "TRAIN['class'] = TRAIN['class'].apply(lambda x: patch_apply(x))\n",
    "TEST['class'] = TEST['class'].apply(lambda x: patch_apply(x))\n",
    "train_dataset = DeepFakeDataset(TRAIN)\n",
    "test_dataset = DeepFakeDataset(TEST)"
   ]
  },
  {
   "cell_type": "code",
   "execution_count": null,
   "id": "4f58eacc-f3ed-4bb8-8d18-a9a9c7c77de8",
   "metadata": {},
   "outputs": [
    {
     "data": {
      "text/html": [
       "<div>\n",
       "<style scoped>\n",
       "    .dataframe tbody tr th:only-of-type {\n",
       "        vertical-align: middle;\n",
       "    }\n",
       "\n",
       "    .dataframe tbody tr th {\n",
       "        vertical-align: top;\n",
       "    }\n",
       "\n",
       "    .dataframe thead th {\n",
       "        text-align: right;\n",
       "    }\n",
       "</style>\n",
       "<table border=\"1\" class=\"dataframe\">\n",
       "  <thead>\n",
       "    <tr style=\"text-align: right;\">\n",
       "      <th></th>\n",
       "      <th>path</th>\n",
       "      <th>class</th>\n",
       "    </tr>\n",
       "  </thead>\n",
       "  <tbody>\n",
       "    <tr>\n",
       "      <th>0</th>\n",
       "      <td>lib/data/MixedData/True/simswappic_107223.jpg</td>\n",
       "      <td>tensor(0.)</td>\n",
       "    </tr>\n",
       "    <tr>\n",
       "      <th>1</th>\n",
       "      <td>lib/data/MixedData/True/01687.png</td>\n",
       "      <td>tensor(0.)</td>\n",
       "    </tr>\n",
       "    <tr>\n",
       "      <th>2</th>\n",
       "      <td>lib/data/MixedData/Fake/newpic_977.jpgresult.jpg</td>\n",
       "      <td>tensor(1.)</td>\n",
       "    </tr>\n",
       "    <tr>\n",
       "      <th>3</th>\n",
       "      <td>lib/data/MixedData/Fake/3981.jpg</td>\n",
       "      <td>tensor(1.)</td>\n",
       "    </tr>\n",
       "    <tr>\n",
       "      <th>4</th>\n",
       "      <td>lib/data/MixedData/Fake/266.jpg</td>\n",
       "      <td>tensor(1.)</td>\n",
       "    </tr>\n",
       "    <tr>\n",
       "      <th>...</th>\n",
       "      <td>...</td>\n",
       "      <td>...</td>\n",
       "    </tr>\n",
       "    <tr>\n",
       "      <th>12271</th>\n",
       "      <td>lib/data/CUSTOMV2/Fake/id01637_1935__video1_au...</td>\n",
       "      <td>tensor(1.)</td>\n",
       "    </tr>\n",
       "    <tr>\n",
       "      <th>12272</th>\n",
       "      <td>lib/data/MixedData/Fake/swappicm_558.jpgresult...</td>\n",
       "      <td>tensor(1.)</td>\n",
       "    </tr>\n",
       "    <tr>\n",
       "      <th>12273</th>\n",
       "      <td>lib/data/MixedData/Fake/newpicm_735.jpgresult.jpg</td>\n",
       "      <td>tensor(1.)</td>\n",
       "    </tr>\n",
       "    <tr>\n",
       "      <th>12274</th>\n",
       "      <td>lib/data/MixedData/Fake/newpicm_598.jpgresult.jpg</td>\n",
       "      <td>tensor(1.)</td>\n",
       "    </tr>\n",
       "    <tr>\n",
       "      <th>12275</th>\n",
       "      <td>lib/data/MixedData/True/380.jpg</td>\n",
       "      <td>tensor(0.)</td>\n",
       "    </tr>\n",
       "  </tbody>\n",
       "</table>\n",
       "<p>12276 rows × 2 columns</p>\n",
       "</div>"
      ],
      "text/plain": [
       "                                                    path       class\n",
       "0          lib/data/MixedData/True/simswappic_107223.jpg  tensor(0.)\n",
       "1                      lib/data/MixedData/True/01687.png  tensor(0.)\n",
       "2       lib/data/MixedData/Fake/newpic_977.jpgresult.jpg  tensor(1.)\n",
       "3                       lib/data/MixedData/Fake/3981.jpg  tensor(1.)\n",
       "4                        lib/data/MixedData/Fake/266.jpg  tensor(1.)\n",
       "...                                                  ...         ...\n",
       "12271  lib/data/CUSTOMV2/Fake/id01637_1935__video1_au...  tensor(1.)\n",
       "12272  lib/data/MixedData/Fake/swappicm_558.jpgresult...  tensor(1.)\n",
       "12273  lib/data/MixedData/Fake/newpicm_735.jpgresult.jpg  tensor(1.)\n",
       "12274  lib/data/MixedData/Fake/newpicm_598.jpgresult.jpg  tensor(1.)\n",
       "12275                    lib/data/MixedData/True/380.jpg  tensor(0.)\n",
       "\n",
       "[12276 rows x 2 columns]"
      ]
     },
     "execution_count": 10,
     "metadata": {},
     "output_type": "execute_result"
    }
   ],
   "source": [
    "TRAIN"
   ]
  },
  {
   "cell_type": "code",
   "execution_count": null,
   "id": "35db616a",
   "metadata": {},
   "outputs": [],
   "source": [
    "model = EffNetb1(patch=False,pretrained_folder = 'lib/models/b1_patch.pth')\n",
    "model = model.to(DEVICE)\n",
    "optimizer = torch.optim.Adam(model.parameters())\n",
    "loss = torch.nn.BCELoss()\n",
    "res = train_old(model,optimizer,loss,50,train_dataset,test_dataset,False,'lib/models/b1_default.pth')"
   ]
  },
  {
   "cell_type": "code",
   "execution_count": null,
   "id": "cfdf4a7d-90f6-4558-ab5b-61708cb3f077",
   "metadata": {},
   "outputs": [],
   "source": []
  },
  {
   "cell_type": "code",
   "execution_count": null,
   "id": "733ba3f1-ccb1-4856-9368-ad4df00e07d2",
   "metadata": {},
   "outputs": [
    {
     "ename": "ValueError",
     "evalue": "too many values to unpack (expected 3)",
     "output_type": "error",
     "traceback": [
      "\u001b[0;31m---------------------------------------------------------------------------\u001b[0m",
      "\u001b[0;31mValueError\u001b[0m                                Traceback (most recent call last)",
      "Input \u001b[0;32mIn [12]\u001b[0m, in \u001b[0;36m<cell line: 3>\u001b[0;34m()\u001b[0m\n\u001b[1;32m      1\u001b[0m \u001b[38;5;28;01mfrom\u001b[39;00m \u001b[38;5;21;01mlib\u001b[39;00m\u001b[38;5;21;01m.\u001b[39;00m\u001b[38;5;21;01mmetrics\u001b[39;00m\u001b[38;5;21;01m.\u001b[39;00m\u001b[38;5;21;01mevaluate\u001b[39;00m \u001b[38;5;28;01mimport\u001b[39;00m Evaluator\n\u001b[1;32m      2\u001b[0m checker \u001b[38;5;241m=\u001b[39m Evaluator(type_of_model\u001b[38;5;241m=\u001b[39m\u001b[38;5;124m'\u001b[39m\u001b[38;5;124mav\u001b[39m\u001b[38;5;124m'\u001b[39m,loss_fn\u001b[38;5;241m=\u001b[39mnn\u001b[38;5;241m.\u001b[39mBCELoss(),patch_v\u001b[38;5;241m=\u001b[39m\u001b[38;5;28;01mFalse\u001b[39;00m)\n\u001b[0;32m----> 3\u001b[0m \u001b[43mchecker\u001b[49m\u001b[38;5;241;43m.\u001b[39;49m\u001b[43mestimate_dataset\u001b[49m\u001b[43m(\u001b[49m\u001b[43mtest_dataset\u001b[49m\u001b[43m,\u001b[49m\u001b[43mmodel\u001b[49m\u001b[43m)\u001b[49m\n",
      "File \u001b[0;32m~/Deepfake_proj/DeepFakeDetection/lib/metrics/evaluate.py:21\u001b[0m, in \u001b[0;36mEvaluator.estimate_dataset\u001b[0;34m(self, dataset, model)\u001b[0m\n\u001b[1;32m     19\u001b[0m model\u001b[38;5;241m.\u001b[39meval()\n\u001b[1;32m     20\u001b[0m val_loss,running_corrects,processed_data \u001b[38;5;241m=\u001b[39m \u001b[38;5;241m0\u001b[39m,\u001b[38;5;241m0\u001b[39m,\u001b[38;5;241m0\u001b[39m\n\u001b[0;32m---> 21\u001b[0m \u001b[38;5;28;01mfor\u001b[39;00m (X_batch_image, X_batch_audio_up,X_batch_audio_d), Y_batch \u001b[38;5;129;01min\u001b[39;00m dataset:\n\u001b[1;32m     22\u001b[0m     Y_batch \u001b[38;5;241m=\u001b[39m Y_batch\u001b[38;5;241m.\u001b[39mto(DEVICE)\n\u001b[1;32m     23\u001b[0m     Y_batch \u001b[38;5;241m=\u001b[39m torch\u001b[38;5;241m.\u001b[39mtensor(Y_batch,dtype\u001b[38;5;241m=\u001b[39mtorch\u001b[38;5;241m.\u001b[39mfloat32)\n",
      "\u001b[0;31mValueError\u001b[0m: too many values to unpack (expected 3)"
     ]
    }
   ],
   "source": [
    "from lib.metrics.evaluate import Evaluator\n",
    "checker = Evaluator(type_of_model='av',loss_fn=nn.BCELoss(),patch_v=True)\n",
    "checker.estimate_dataset(test_dataset,model)"
   ]
  },
  {
   "cell_type": "code",
   "execution_count": null,
   "id": "c358ecc2-9b0d-4021-a0a5-abab156b40a6",
   "metadata": {},
   "outputs": [],
   "source": []
  }
 ],
 "metadata": {
  "kernelspec": {
   "display_name": "Python 3 (ipykernel)",
   "language": "python",
   "name": "python3"
  },
  "language_info": {
   "codemirror_mode": {
    "name": "ipython",
    "version": 3
   },
   "file_extension": ".py",
   "mimetype": "text/x-python",
   "name": "python",
   "nbconvert_exporter": "python",
   "pygments_lexer": "ipython3",
   "version": "3.8.13"
  }
 },
 "nbformat": 4,
 "nbformat_minor": 5
}
